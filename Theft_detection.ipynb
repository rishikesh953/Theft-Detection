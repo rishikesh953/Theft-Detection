{
  "nbformat": 4,
  "nbformat_minor": 0,
  "metadata": {
    "colab": {
      "name": "Theft_detection.ipynb",
      "provenance": [],
      "collapsed_sections": [],
      "authorship_tag": "ABX9TyPwE4Q+SBlS+XFctlBz/lqB",
      "include_colab_link": true
    },
    "kernelspec": {
      "name": "python3",
      "display_name": "Python 3"
    },
    "language_info": {
      "name": "python"
    },
    "widgets": {
      "application/vnd.jupyter.widget-state+json": {
        "577497ffff384432b8dde21dfe54e482": {
          "model_module": "@jupyter-widgets/controls",
          "model_name": "HBoxModel",
          "model_module_version": "1.5.0",
          "state": {
            "_dom_classes": [],
            "_model_module": "@jupyter-widgets/controls",
            "_model_module_version": "1.5.0",
            "_model_name": "HBoxModel",
            "_view_count": null,
            "_view_module": "@jupyter-widgets/controls",
            "_view_module_version": "1.5.0",
            "_view_name": "HBoxView",
            "box_style": "",
            "children": [
              "IPY_MODEL_63eeb94f74f84b81b8b27c071f1d461d",
              "IPY_MODEL_61fc3d8b285a47afa75ea346df1583a2",
              "IPY_MODEL_119eecee912243d1ba7c44b2d343c433"
            ],
            "layout": "IPY_MODEL_88ebc5d749844dd8974deb194ea57fb3"
          }
        },
        "63eeb94f74f84b81b8b27c071f1d461d": {
          "model_module": "@jupyter-widgets/controls",
          "model_name": "HTMLModel",
          "model_module_version": "1.5.0",
          "state": {
            "_dom_classes": [],
            "_model_module": "@jupyter-widgets/controls",
            "_model_module_version": "1.5.0",
            "_model_name": "HTMLModel",
            "_view_count": null,
            "_view_module": "@jupyter-widgets/controls",
            "_view_module_version": "1.5.0",
            "_view_name": "HTMLView",
            "description": "",
            "description_tooltip": null,
            "layout": "IPY_MODEL_c04ae3fe03c8494d820124370c88e113",
            "placeholder": "​",
            "style": "IPY_MODEL_1860261ea4d14b6f96ec92e38fbb02d5",
            "value": "100%"
          }
        },
        "61fc3d8b285a47afa75ea346df1583a2": {
          "model_module": "@jupyter-widgets/controls",
          "model_name": "FloatProgressModel",
          "model_module_version": "1.5.0",
          "state": {
            "_dom_classes": [],
            "_model_module": "@jupyter-widgets/controls",
            "_model_module_version": "1.5.0",
            "_model_name": "FloatProgressModel",
            "_view_count": null,
            "_view_module": "@jupyter-widgets/controls",
            "_view_module_version": "1.5.0",
            "_view_name": "ProgressView",
            "bar_style": "success",
            "description": "",
            "description_tooltip": null,
            "layout": "IPY_MODEL_e9fbc6094e634b6a802a4724327b6908",
            "max": 57365526,
            "min": 0,
            "orientation": "horizontal",
            "style": "IPY_MODEL_a8675d133ccf441dab1127f25ef63f8a",
            "value": 57365526
          }
        },
        "119eecee912243d1ba7c44b2d343c433": {
          "model_module": "@jupyter-widgets/controls",
          "model_name": "HTMLModel",
          "model_module_version": "1.5.0",
          "state": {
            "_dom_classes": [],
            "_model_module": "@jupyter-widgets/controls",
            "_model_module_version": "1.5.0",
            "_model_name": "HTMLModel",
            "_view_count": null,
            "_view_module": "@jupyter-widgets/controls",
            "_view_module_version": "1.5.0",
            "_view_name": "HTMLView",
            "description": "",
            "description_tooltip": null,
            "layout": "IPY_MODEL_68cb0bd6ea2a4b58b53ea5b37e57ed2d",
            "placeholder": "​",
            "style": "IPY_MODEL_a6f1124c74c94fc8933dc3a88a38b1ac",
            "value": " 54.7M/54.7M [00:00&lt;00:00, 179MB/s]"
          }
        },
        "88ebc5d749844dd8974deb194ea57fb3": {
          "model_module": "@jupyter-widgets/base",
          "model_name": "LayoutModel",
          "model_module_version": "1.2.0",
          "state": {
            "_model_module": "@jupyter-widgets/base",
            "_model_module_version": "1.2.0",
            "_model_name": "LayoutModel",
            "_view_count": null,
            "_view_module": "@jupyter-widgets/base",
            "_view_module_version": "1.2.0",
            "_view_name": "LayoutView",
            "align_content": null,
            "align_items": null,
            "align_self": null,
            "border": null,
            "bottom": null,
            "display": null,
            "flex": null,
            "flex_flow": null,
            "grid_area": null,
            "grid_auto_columns": null,
            "grid_auto_flow": null,
            "grid_auto_rows": null,
            "grid_column": null,
            "grid_gap": null,
            "grid_row": null,
            "grid_template_areas": null,
            "grid_template_columns": null,
            "grid_template_rows": null,
            "height": null,
            "justify_content": null,
            "justify_items": null,
            "left": null,
            "margin": null,
            "max_height": null,
            "max_width": null,
            "min_height": null,
            "min_width": null,
            "object_fit": null,
            "object_position": null,
            "order": null,
            "overflow": null,
            "overflow_x": null,
            "overflow_y": null,
            "padding": null,
            "right": null,
            "top": null,
            "visibility": null,
            "width": null
          }
        },
        "c04ae3fe03c8494d820124370c88e113": {
          "model_module": "@jupyter-widgets/base",
          "model_name": "LayoutModel",
          "model_module_version": "1.2.0",
          "state": {
            "_model_module": "@jupyter-widgets/base",
            "_model_module_version": "1.2.0",
            "_model_name": "LayoutModel",
            "_view_count": null,
            "_view_module": "@jupyter-widgets/base",
            "_view_module_version": "1.2.0",
            "_view_name": "LayoutView",
            "align_content": null,
            "align_items": null,
            "align_self": null,
            "border": null,
            "bottom": null,
            "display": null,
            "flex": null,
            "flex_flow": null,
            "grid_area": null,
            "grid_auto_columns": null,
            "grid_auto_flow": null,
            "grid_auto_rows": null,
            "grid_column": null,
            "grid_gap": null,
            "grid_row": null,
            "grid_template_areas": null,
            "grid_template_columns": null,
            "grid_template_rows": null,
            "height": null,
            "justify_content": null,
            "justify_items": null,
            "left": null,
            "margin": null,
            "max_height": null,
            "max_width": null,
            "min_height": null,
            "min_width": null,
            "object_fit": null,
            "object_position": null,
            "order": null,
            "overflow": null,
            "overflow_x": null,
            "overflow_y": null,
            "padding": null,
            "right": null,
            "top": null,
            "visibility": null,
            "width": null
          }
        },
        "1860261ea4d14b6f96ec92e38fbb02d5": {
          "model_module": "@jupyter-widgets/controls",
          "model_name": "DescriptionStyleModel",
          "model_module_version": "1.5.0",
          "state": {
            "_model_module": "@jupyter-widgets/controls",
            "_model_module_version": "1.5.0",
            "_model_name": "DescriptionStyleModel",
            "_view_count": null,
            "_view_module": "@jupyter-widgets/base",
            "_view_module_version": "1.2.0",
            "_view_name": "StyleView",
            "description_width": ""
          }
        },
        "e9fbc6094e634b6a802a4724327b6908": {
          "model_module": "@jupyter-widgets/base",
          "model_name": "LayoutModel",
          "model_module_version": "1.2.0",
          "state": {
            "_model_module": "@jupyter-widgets/base",
            "_model_module_version": "1.2.0",
            "_model_name": "LayoutModel",
            "_view_count": null,
            "_view_module": "@jupyter-widgets/base",
            "_view_module_version": "1.2.0",
            "_view_name": "LayoutView",
            "align_content": null,
            "align_items": null,
            "align_self": null,
            "border": null,
            "bottom": null,
            "display": null,
            "flex": null,
            "flex_flow": null,
            "grid_area": null,
            "grid_auto_columns": null,
            "grid_auto_flow": null,
            "grid_auto_rows": null,
            "grid_column": null,
            "grid_gap": null,
            "grid_row": null,
            "grid_template_areas": null,
            "grid_template_columns": null,
            "grid_template_rows": null,
            "height": null,
            "justify_content": null,
            "justify_items": null,
            "left": null,
            "margin": null,
            "max_height": null,
            "max_width": null,
            "min_height": null,
            "min_width": null,
            "object_fit": null,
            "object_position": null,
            "order": null,
            "overflow": null,
            "overflow_x": null,
            "overflow_y": null,
            "padding": null,
            "right": null,
            "top": null,
            "visibility": null,
            "width": null
          }
        },
        "a8675d133ccf441dab1127f25ef63f8a": {
          "model_module": "@jupyter-widgets/controls",
          "model_name": "ProgressStyleModel",
          "model_module_version": "1.5.0",
          "state": {
            "_model_module": "@jupyter-widgets/controls",
            "_model_module_version": "1.5.0",
            "_model_name": "ProgressStyleModel",
            "_view_count": null,
            "_view_module": "@jupyter-widgets/base",
            "_view_module_version": "1.2.0",
            "_view_name": "StyleView",
            "bar_color": null,
            "description_width": ""
          }
        },
        "68cb0bd6ea2a4b58b53ea5b37e57ed2d": {
          "model_module": "@jupyter-widgets/base",
          "model_name": "LayoutModel",
          "model_module_version": "1.2.0",
          "state": {
            "_model_module": "@jupyter-widgets/base",
            "_model_module_version": "1.2.0",
            "_model_name": "LayoutModel",
            "_view_count": null,
            "_view_module": "@jupyter-widgets/base",
            "_view_module_version": "1.2.0",
            "_view_name": "LayoutView",
            "align_content": null,
            "align_items": null,
            "align_self": null,
            "border": null,
            "bottom": null,
            "display": null,
            "flex": null,
            "flex_flow": null,
            "grid_area": null,
            "grid_auto_columns": null,
            "grid_auto_flow": null,
            "grid_auto_rows": null,
            "grid_column": null,
            "grid_gap": null,
            "grid_row": null,
            "grid_template_areas": null,
            "grid_template_columns": null,
            "grid_template_rows": null,
            "height": null,
            "justify_content": null,
            "justify_items": null,
            "left": null,
            "margin": null,
            "max_height": null,
            "max_width": null,
            "min_height": null,
            "min_width": null,
            "object_fit": null,
            "object_position": null,
            "order": null,
            "overflow": null,
            "overflow_x": null,
            "overflow_y": null,
            "padding": null,
            "right": null,
            "top": null,
            "visibility": null,
            "width": null
          }
        },
        "a6f1124c74c94fc8933dc3a88a38b1ac": {
          "model_module": "@jupyter-widgets/controls",
          "model_name": "DescriptionStyleModel",
          "model_module_version": "1.5.0",
          "state": {
            "_model_module": "@jupyter-widgets/controls",
            "_model_module_version": "1.5.0",
            "_model_name": "DescriptionStyleModel",
            "_view_count": null,
            "_view_module": "@jupyter-widgets/base",
            "_view_module_version": "1.2.0",
            "_view_name": "StyleView",
            "description_width": ""
          }
        }
      }
    }
  },
  "cells": [
    {
      "cell_type": "markdown",
      "metadata": {
        "id": "view-in-github",
        "colab_type": "text"
      },
      "source": [
        "<a href=\"https://colab.research.google.com/github/rishikesh953/Theft-Detection/blob/main/Theft_detection.ipynb\" target=\"_parent\"><img src=\"https://colab.research.google.com/assets/colab-badge.svg\" alt=\"Open In Colab\"/></a>"
      ]
    },
    {
      "cell_type": "code",
      "execution_count": null,
      "metadata": {
        "id": "GQLeCo6-b39o"
      },
      "outputs": [],
      "source": [
        "# import statements\n",
        "\n",
        "import torch\n",
        "from torch.utils.data import Dataset\n",
        "import torchvision.models as models\n",
        "import cv2\n",
        "import numpy as np\n",
        "from skimage.transform import resize"
      ]
    },
    {
      "cell_type": "code",
      "source": [
        ""
      ],
      "metadata": {
        "id": "f0uNPXn1d8Wa"
      },
      "execution_count": null,
      "outputs": []
    },
    {
      "cell_type": "code",
      "source": [
        "# preparing the dataset\n",
        "\n",
        "class VideoDataset(Dataset):\n",
        "    \"\"\"Video dataset.\"\"\"\n",
        "\n",
        "    def __init__(self, data, timesep=30,rgb=3,h=120,w=120):\n",
        "\n",
        "        self.datalocation = data\n",
        "        self.timesep = timesep\n",
        "        self.rgb = rgb\n",
        "        self.h = h\n",
        "        self.w = w\n",
        "\n",
        "    def __len__(self):\n",
        "        return self.datalocation.size()\n",
        "\n",
        "    def __getitem__(self, index):\n",
        "        if torch.is_tensor(index):\n",
        "            idx = index.tolist()\n",
        "        video = capture(self.dataloctions.iloc[index, 0],self.timesep,self.rgb,self.h,self.w)\n",
        "        sample = {'video': torch.from_numpy(video), 'label': torch.from_numpy(np.asarray(self.dataloctions.iloc[idx, 1]))}\n",
        "        return sample\n",
        "\n",
        "def capture(filename,timesep,rgb,h,w):\n",
        "    tmp = []\n",
        "    frames = np.zeros((timesep,rgb,h,w), dtype=np.float)\n",
        "    i=0\n",
        "    vc = cv2.VideoCapture(filename)\n",
        "    if vc.isOpened():\n",
        "        rval , frame = vc.read()\n",
        "    else:\n",
        "        rval = False\n",
        "    frm = resize(frame,(h, w,rgb))  \n",
        "    frm = np.expand_dims(frm,axis=0)\n",
        "    frm = np.moveaxis(frm, -1, 1)\n",
        "    if(np.max(frm)>1):\n",
        "        frm = frm/255.0\n",
        "    frames[i][:] = frm\n",
        "    i +=1\n",
        "    while i < timesep:\n",
        "        tmp[:] = frm[:]\n",
        "        rval, frame = vc.read()\n",
        "        frm = resize(frame,( h, w,rgb))\n",
        "        frm = np.expand_dims(frm,axis=0)\n",
        "        if(np.max(frm)>1):\n",
        "            frm = frm/255.0\n",
        "        frm = np.moveaxis(frm, -1, 1)\n",
        "        frames[i-1][:] = frm # - tmp\n",
        "        i +=1\n",
        "\n",
        "    return frames\n"
      ],
      "metadata": {
        "id": "yxRpcPE6cebA"
      },
      "execution_count": null,
      "outputs": []
    },
    {
      "cell_type": "code",
      "source": [
        "import torchvision.models as models\n",
        "\n",
        "model = models.densenet169(pretrained=True)\n",
        "\n",
        "model = models.densenet169(pretrained=True).features"
      ],
      "metadata": {
        "id": "w09an53KrLv-"
      },
      "execution_count": null,
      "outputs": []
    },
    {
      "cell_type": "code",
      "source": [
        "import torchvision.models as models\n",
        "\n",
        "#get only the conv layers from a pre-trained densenet169\n",
        "model = models.densenet169(pretrained=True).features\n",
        "# densenet169  contain 4 denseblock\n",
        "#you can simply freez any of these by disable the grad from theme like these freez mean not to train these layers\n",
        "# by default all layers are trainable\n",
        "#freezing the first block\n",
        "for param in model.denseblock1.parameters():\n",
        "            param.requires_grad = False\n"
      ],
      "metadata": {
        "id": "eqOrpFbxf2GT",
        "outputId": "2dce7c72-c1f0-4186-9db7-79ed611e541e",
        "colab": {
          "base_uri": "https://localhost:8080/",
          "height": 66,
          "referenced_widgets": [
            "577497ffff384432b8dde21dfe54e482",
            "63eeb94f74f84b81b8b27c071f1d461d",
            "61fc3d8b285a47afa75ea346df1583a2",
            "119eecee912243d1ba7c44b2d343c433",
            "88ebc5d749844dd8974deb194ea57fb3",
            "c04ae3fe03c8494d820124370c88e113",
            "1860261ea4d14b6f96ec92e38fbb02d5",
            "e9fbc6094e634b6a802a4724327b6908",
            "a8675d133ccf441dab1127f25ef63f8a",
            "68cb0bd6ea2a4b58b53ea5b37e57ed2d",
            "a6f1124c74c94fc8933dc3a88a38b1ac"
          ]
        }
      },
      "execution_count": null,
      "outputs": [
        {
          "output_type": "stream",
          "name": "stderr",
          "text": [
            "Downloading: \"https://download.pytorch.org/models/densenet169-b2777c0a.pth\" to /root/.cache/torch/hub/checkpoints/densenet169-b2777c0a.pth\n"
          ]
        },
        {
          "output_type": "display_data",
          "data": {
            "text/plain": [
              "  0%|          | 0.00/54.7M [00:00<?, ?B/s]"
            ],
            "application/vnd.jupyter.widget-view+json": {
              "version_major": 2,
              "version_minor": 0,
              "model_id": "577497ffff384432b8dde21dfe54e482"
            }
          },
          "metadata": {}
        }
      ]
    },
    {
      "cell_type": "code",
      "source": [
        ""
      ],
      "metadata": {
        "id": "r_A7quBtf3S8"
      },
      "execution_count": null,
      "outputs": []
    }
  ]
}