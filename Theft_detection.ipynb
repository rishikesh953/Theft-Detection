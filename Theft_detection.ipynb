{
  "nbformat": 4,
  "nbformat_minor": 0,
  "metadata": {
    "colab": {
      "name": "Theft_detection.ipynb",
      "provenance": [],
      "collapsed_sections": [],
      "authorship_tag": "ABX9TyM7fk30nIaJPhzPH9/3EAIi",
      "include_colab_link": true
    },
    "kernelspec": {
      "name": "python3",
      "display_name": "Python 3"
    },
    "language_info": {
      "name": "python"
    }
  },
  "cells": [
    {
      "cell_type": "markdown",
      "metadata": {
        "id": "view-in-github",
        "colab_type": "text"
      },
      "source": [
        "<a href=\"https://colab.research.google.com/github/rishikesh953/Theft-Detection/blob/main/Theft_detection.ipynb\" target=\"_parent\"><img src=\"https://colab.research.google.com/assets/colab-badge.svg\" alt=\"Open In Colab\"/></a>"
      ]
    },
    {
      "cell_type": "code",
      "execution_count": 8,
      "metadata": {
        "id": "GQLeCo6-b39o"
      },
      "outputs": [],
      "source": [
        "# import statements\n",
        "\n",
        "import torch\n",
        "from torch.utils.data import Dataset\n",
        "import torchvision.models as models\n",
        "import cv2\n",
        "import numpy as np\n",
        "from skimage.transform import resize"
      ]
    },
    {
      "cell_type": "code",
      "source": [
        "# preparing the dataset\n",
        "\n",
        "class VideoDataset(Dataset):\n",
        "    \"\"\"Video dataset.\"\"\"\n",
        "\n",
        "    def __init__(self, data, timesep=30,rgb=3,h=120,w=120):\n",
        "\n",
        "        self.datalocation = data\n",
        "        self.timesep = timesep\n",
        "        self.rgb = rgb\n",
        "        self.h = h\n",
        "        self.w = w\n",
        "\n",
        "    def __len__(self):\n",
        "        return self.datalocation.size()\n",
        "\n",
        "    def __getitem__(self, index):\n",
        "        if torch.is_tensor(index):\n",
        "            idx = index.tolist()\n",
        "        video = capture(self.dataloctions.iloc[index, 0],self.timesep,self.rgb,self.h,self.w)\n",
        "        sample = {'video': torch.from_numpy(video), 'label': torch.from_numpy(np.asarray(self.dataloctions.iloc[idx, 1]))}\n",
        "        return sample\n",
        "\n",
        "def capture(filename,timesep,rgb,h,w):\n",
        "    tmp = []\n",
        "    frames = np.zeros((timesep,rgb,h,w), dtype=np.float)\n",
        "    i=0\n",
        "    vc = cv2.VideoCapture(filename)\n",
        "    if vc.isOpened():\n",
        "        rval , frame = vc.read()\n",
        "    else:\n",
        "        rval = False\n",
        "    frm = resize(frame,(h, w,rgb))  \n",
        "    frm = np.expand_dims(frm,axis=0)\n",
        "    frm = np.moveaxis(frm, -1, 1)\n",
        "    if(np.max(frm)>1):\n",
        "        frm = frm/255.0\n",
        "    frames[i][:] = frm\n",
        "    i +=1\n",
        "    while i < timesep:\n",
        "        tmp[:] = frm[:]\n",
        "        rval, frame = vc.read()\n",
        "        frm = resize(frame,( h, w,rgb))\n",
        "        frm = np.expand_dims(frm,axis=0)\n",
        "        if(np.max(frm)>1):\n",
        "            frm = frm/255.0\n",
        "        frm = np.moveaxis(frm, -1, 1)\n",
        "        frames[i-1][:] = frm # - tmp\n",
        "        i +=1\n",
        "\n",
        "    return frames\n"
      ],
      "metadata": {
        "id": "yxRpcPE6cebA"
      },
      "execution_count": 9,
      "outputs": []
    },
    {
      "cell_type": "code",
      "source": [
        "# model\n",
        "\n",
        "import torch.nn as nn\n",
        "import torchvision.models as models\n",
        "\n",
        "\n",
        "class TimeWarp(nn.Module):\n",
        "    def __init__(self, baseModel, method='sqeeze'):\n",
        "        super(TimeWarp, self).__init__()\n",
        "        self.baseModel = baseModel\n",
        "        self.method = method\n",
        " \n",
        "    def forward(self, x):\n",
        "        batch_size, time_steps, C, H, W = x.size()\n",
        "        # reshape input  to be (batch_size * timesteps, input_size)\n",
        "        x = x.contiguous().view(batch_size * time_steps, C, H, W)\n",
        "        x = self.baseModel(x)\n",
        "        x = x.view(x.size(0), -1)\n",
        "        #make output as  ( samples, timesteps, output_size)\n",
        "        x = x.contiguous().view(batch_size , time_steps , x.size(-1))\n",
        "        return x\n",
        "\n",
        "\n",
        "class extractlastcell(nn.Module):\n",
        "    def forward(self,x):\n",
        "        out , _ = x\n",
        "        return out[:, -1, :]\n"
      ],
      "metadata": {
        "id": "h6x7SvIiPLdt"
      },
      "execution_count": 10,
      "outputs": []
    },
    {
      "cell_type": "code",
      "source": [
        "# Create model\n",
        "\n",
        "num_classes = 1\n",
        "dr_rate= 0.2\n",
        "pretrained = True\n",
        "rnn_hidden_size = 30\n",
        "rnn_num_layers = 2\n",
        "baseModel = models.vgg19(pretrained=pretrained).features\n",
        "i = 0\n",
        "for child in baseModel.children():\n",
        "    if i < 28:\n",
        "        for param in child.parameters():\n",
        "            param.requires_grad = False\n",
        "    else:\n",
        "        for param in child.parameters():\n",
        "            param.requires_grad = True\n",
        "    i +=1\n",
        "\n",
        "num_features = 12800\n",
        "\n",
        "# Example of using Sequential\n",
        "model = nn.Sequential(TimeWarp(baseModel),\n",
        "                       nn.Dropout(dr_rate),\n",
        "                      nn.LSTM(num_features, rnn_hidden_size, rnn_num_layers , batch_first=True),\n",
        "                      extractlastcell(),\n",
        "                        nn.Linear(30, 256),\n",
        "                      nn.ReLU(),\n",
        "                       nn.Dropout(dr_rate),\n",
        " nn.Linear(256, num_classes)\n",
        "\n",
        "        )"
      ],
      "metadata": {
        "id": "YG4mfOpxPbGb"
      },
      "execution_count": 12,
      "outputs": []
    },
    {
      "cell_type": "code",
      "source": [
        ""
      ],
      "metadata": {
        "id": "5kqB7aOrU2tP"
      },
      "execution_count": null,
      "outputs": []
    }
  ]
}